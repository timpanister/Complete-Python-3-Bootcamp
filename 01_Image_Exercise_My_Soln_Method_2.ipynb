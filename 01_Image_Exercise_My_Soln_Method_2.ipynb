{
  "nbformat": 4,
  "nbformat_minor": 0,
  "metadata": {
    "kernelspec": {
      "display_name": "Python 3",
      "language": "python",
      "name": "python3"
    },
    "language_info": {
      "codemirror_mode": {
        "name": "ipython",
        "version": 3
      },
      "file_extension": ".py",
      "mimetype": "text/x-python",
      "name": "python",
      "nbconvert_exporter": "python",
      "pygments_lexer": "ipython3",
      "version": "3.6.6"
    },
    "colab": {
      "name": "01-Image-Exercise My Soln Method 2.ipynb",
      "provenance": [],
      "collapsed_sections": [],
      "include_colab_link": true
    }
  },
  "cells": [
    {
      "cell_type": "markdown",
      "metadata": {
        "id": "view-in-github",
        "colab_type": "text"
      },
      "source": [
        "<a href=\"https://colab.research.google.com/github/timpanister/Complete-Python-3-Bootcamp/blob/master/01_Image_Exercise_My_Soln_Method_2.ipynb\" target=\"_parent\"><img src=\"https://colab.research.google.com/assets/colab-badge.svg\" alt=\"Open In Colab\"/></a>"
      ]
    },
    {
      "cell_type": "code",
      "metadata": {
        "id": "rMUlTXp7mVQu"
      },
      "source": [
        ""
      ],
      "execution_count": null,
      "outputs": []
    },
    {
      "cell_type": "markdown",
      "metadata": {
        "id": "e2bXLjok45xn"
      },
      "source": [
        "___\n",
        "\n",
        "<a href='https://www.udemy.com/user/joseportilla/'><img src='../Pierian_Data_Logo.png'/></a>\n",
        "___\n",
        "<center><em>Content Copyright by Pierian Data</em></center>"
      ]
    },
    {
      "cell_type": "markdown",
      "metadata": {
        "id": "iE5p2Oeu45xy"
      },
      "source": [
        "# Image Exercise\n",
        "\n",
        "In the folder \"Working with Images\" (same folder this notebook is located in) there are two images we will be working with:\n",
        "* word_matrix.png\n",
        "* mask.png\n",
        "\n",
        "The word_matrix is a .png image that contains a spreadsheet of words with a hidden message in it.  \n",
        "\n",
        "Your task is to use the mask.png image to reveal the hidden message inside the word_matrix.png. Keep in mind, you may need to make changes to the mask.png in order for this to work. That is all we'll say for now, since we really want you to discover this on your own!\n",
        "\n",
        "This exercise is more open-ended, so we won't guide you with the steps, instead, letting you explore and figure things out on your own as you would in a real world situation. However, if you get stuck, you can always view the solutions video or notebook for guidance. Best of luck!\n",
        "\n",
        "https://note.nkmk.me/en/python-pillow-putalpha/"
      ]
    },
    {
      "cell_type": "code",
      "metadata": {
        "colab": {
          "base_uri": "https://localhost:8080/"
        },
        "id": "3Y-8MUwSqrrr",
        "outputId": "79db955f-5a33-4ea8-c34a-f829423cdc1e"
      },
      "source": [
        "from google.colab import drive \n",
        "drive.mount('/content/drive')"
      ],
      "execution_count": 1,
      "outputs": [
        {
          "output_type": "stream",
          "text": [
            "Mounted at /content/drive\n"
          ],
          "name": "stdout"
        }
      ]
    },
    {
      "cell_type": "code",
      "metadata": {
        "colab": {
          "base_uri": "https://localhost:8080/"
        },
        "id": "W3Nsymu_rFpz",
        "outputId": "8bf23487-3c09-4aa7-9276-107cd4537389"
      },
      "source": [
        "%cd /content/drive/My\\ Drive/"
      ],
      "execution_count": 2,
      "outputs": [
        {
          "output_type": "stream",
          "text": [
            "/content/drive/My Drive\n"
          ],
          "name": "stdout"
        }
      ]
    },
    {
      "cell_type": "code",
      "metadata": {
        "colab": {
          "base_uri": "https://localhost:8080/"
        },
        "id": "7UDQEw4osVvX",
        "outputId": "5727a55c-5e8f-46b1-f3b2-dacb8c0bdc53"
      },
      "source": [
        "%cd 'Colab Notebooks'/"
      ],
      "execution_count": 3,
      "outputs": [
        {
          "output_type": "stream",
          "text": [
            "/content/drive/My Drive/Colab Notebooks\n"
          ],
          "name": "stdout"
        }
      ]
    },
    {
      "cell_type": "code",
      "metadata": {
        "id": "uYsMHd0y45xz"
      },
      "source": [
        "# import Image module from Pillow library\n",
        "\n",
        "from PIL import Image\n",
        "\n",
        "# open files\n",
        "\n",
        "background = Image.open('word_matrix.png')\n",
        "foreground = Image.open('mask.png')\n"
      ],
      "execution_count": 4,
      "outputs": []
    },
    {
      "cell_type": "code",
      "metadata": {
        "id": "hrTDGMMr5UUH",
        "colab": {
          "base_uri": "https://localhost:8080/"
        },
        "outputId": "671ac363-4985-4267-a374-b010d06edd82"
      },
      "source": [
        "print(background.size, background.mode)\n",
        "print(foreground.size, foreground.mode)"
      ],
      "execution_count": 5,
      "outputs": [
        {
          "output_type": "stream",
          "text": [
            "(1015, 559) RGBA\n",
            "(505, 251) RGBA\n"
          ],
          "name": "stdout"
        }
      ]
    },
    {
      "cell_type": "code",
      "metadata": {
        "id": "SOGwu85V_usU"
      },
      "source": [
        "# Resize mask to same dimensions as word\n",
        "\n",
        "foreground_resized =foreground.resize((1015, 559))"
      ],
      "execution_count": 6,
      "outputs": []
    },
    {
      "cell_type": "code",
      "metadata": {
        "id": "h-K-Se-MRozy"
      },
      "source": [
        "# Make white pixels in foreground transparent.\n",
        "\n",
        "new_foreground = []\n",
        "for item in foreground_resized.getdata():\n",
        "    if item[:3] == (255, 255, 255):\n",
        "        new_foreground.append((255, 255, 255, 0))\n",
        "    else:\n",
        "        new_foreground.append(item)"
      ],
      "execution_count": 7,
      "outputs": []
    },
    {
      "cell_type": "code",
      "metadata": {
        "id": "B3h-4gPVSCHb"
      },
      "source": [
        "foreground_resized.putdata(new_foreground)\n"
      ],
      "execution_count": 8,
      "outputs": []
    },
    {
      "cell_type": "code",
      "metadata": {
        "id": "LAmn6012kdD_"
      },
      "source": [
        "background.paste(foreground_resized, (0,0), foreground_resized)"
      ],
      "execution_count": 9,
      "outputs": []
    },
    {
      "cell_type": "code",
      "metadata": {
        "colab": {
          "base_uri": "https://localhost:8080/",
          "height": 576
        },
        "id": "hLIhs3wZUpWg",
        "outputId": "6408b463-65eb-4145-8f24-c02cff38521b"
      },
      "source": [
        "background"
      ],
      "execution_count": 10,
      "outputs": [
        {
          "output_type": "execute_result",
          "data": {
            "image/png": "[encoded data removed]",
            "text/plain": [
              "<PIL.PngImagePlugin.PngImageFile image mode=RGBA size=1015x559 at 0x7F9FB81A9E10>"
            ]
          },
          "metadata": {
            "tags": []
          },
          "execution_count": 10
        }
      ]
    }
  ]
}